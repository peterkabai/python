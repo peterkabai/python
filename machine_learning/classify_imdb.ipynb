{
 "cells": [
  {
   "cell_type": "code",
   "execution_count": 6,
   "metadata": {},
   "outputs": [],
   "source": [
    "import pandas as pd\n",
    "\n",
    "data = pd.read_csv('../data/imdb.csv')"
   ]
  },
  {
   "cell_type": "code",
   "execution_count": 8,
   "metadata": {},
   "outputs": [
    {
     "data": {
      "text/html": [
       "<div>\n",
       "<style scoped>\n",
       "    .dataframe tbody tr th:only-of-type {\n",
       "        vertical-align: middle;\n",
       "    }\n",
       "\n",
       "    .dataframe tbody tr th {\n",
       "        vertical-align: top;\n",
       "    }\n",
       "\n",
       "    .dataframe thead th {\n",
       "        text-align: right;\n",
       "    }\n",
       "</style>\n",
       "<table border=\"1\" class=\"dataframe\">\n",
       "  <thead>\n",
       "    <tr style=\"text-align: right;\">\n",
       "      <th></th>\n",
       "      <th>genre</th>\n",
       "      <th>title</th>\n",
       "      <th>rating</th>\n",
       "      <th>year</th>\n",
       "      <th>description</th>\n",
       "    </tr>\n",
       "  </thead>\n",
       "  <tbody>\n",
       "    <tr>\n",
       "      <th>18023</th>\n",
       "      <td>romance</td>\n",
       "      <td>Damn Yankees</td>\n",
       "      <td>7.2</td>\n",
       "      <td>1958</td>\n",
       "      <td>A frustrated fan of the hopeless Washington Se...</td>\n",
       "    </tr>\n",
       "    <tr>\n",
       "      <th>1193</th>\n",
       "      <td>comedy</td>\n",
       "      <td>Melissa &amp; Joey</td>\n",
       "      <td>7.0</td>\n",
       "      <td>2010–2015</td>\n",
       "      <td>After a family scandal leaves Mel, a local pol...</td>\n",
       "    </tr>\n",
       "    <tr>\n",
       "      <th>54650</th>\n",
       "      <td>adventure</td>\n",
       "      <td>The King of Detroit</td>\n",
       "      <td>8.2</td>\n",
       "      <td>2014</td>\n",
       "      <td>Life is a series of firsts. Your first kiss. Y...</td>\n",
       "    </tr>\n",
       "  </tbody>\n",
       "</table>\n",
       "</div>"
      ],
      "text/plain": [
       "           genre                title  rating       year  \\\n",
       "18023    romance         Damn Yankees     7.2       1958   \n",
       "1193      comedy       Melissa & Joey     7.0  2010–2015   \n",
       "54650  adventure  The King of Detroit     8.2       2014   \n",
       "\n",
       "                                             description  \n",
       "18023  A frustrated fan of the hopeless Washington Se...  \n",
       "1193   After a family scandal leaves Mel, a local pol...  \n",
       "54650  Life is a series of firsts. Your first kiss. Y...  "
      ]
     },
     "execution_count": 8,
     "metadata": {},
     "output_type": "execute_result"
    }
   ],
   "source": [
    "data.sample(3)"
   ]
  },
  {
   "cell_type": "code",
   "execution_count": null,
   "metadata": {},
   "outputs": [],
   "source": []
  }
 ],
 "metadata": {
  "kernelspec": {
   "display_name": "Python 3",
   "language": "python",
   "name": "python3"
  },
  "language_info": {
   "codemirror_mode": {
    "name": "ipython",
    "version": 3
   },
   "file_extension": ".py",
   "mimetype": "text/x-python",
   "name": "python",
   "nbconvert_exporter": "python",
   "pygments_lexer": "ipython3",
   "version": "3.6.8"
  }
 },
 "nbformat": 4,
 "nbformat_minor": 2
}
